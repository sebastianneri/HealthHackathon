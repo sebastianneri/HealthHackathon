{
  "cells": [
    {
      "cell_type": "markdown",
      "metadata": {
        "id": "view-in-github",
        "colab_type": "text"
      },
      "source": [
        "<a href=\"https://colab.research.google.com/github/sebastianneri/HealthHackathon/blob/main/Disease_Prediction_Model.ipynb\" target=\"_parent\"><img src=\"https://colab.research.google.com/assets/colab-badge.svg\" alt=\"Open In Colab\"/></a>"
      ]
    },
    {
      "cell_type": "markdown",
      "source": [
        "# Data Downloading"
      ],
      "metadata": {
        "id": "H-GoG2WbtS4T"
      }
    },
    {
      "cell_type": "code",
      "execution_count": null,
      "metadata": {
        "id": "6tBUfqJWGU62"
      },
      "outputs": [],
      "source": [
        "!mv kaggle.json ~/.kaggle/"
      ]
    },
    {
      "cell_type": "code",
      "execution_count": null,
      "metadata": {
        "id": "cIA3mQjbHKdN"
      },
      "outputs": [],
      "source": [
        "!chmod 600 ~/.kaggle/kaggle.json"
      ]
    },
    {
      "cell_type": "markdown",
      "metadata": {
        "id": "35BC6zLYKErG"
      },
      "source": [
        "https://www.kaggle.com/datasets/uciml/pima-indians-diabetes-database?select=diabetes.csv"
      ]
    },
    {
      "cell_type": "code",
      "execution_count": null,
      "metadata": {
        "colab": {
          "base_uri": "https://localhost:8080/"
        },
        "id": "IwbhXeXP7urh",
        "outputId": "a3cd3e58-6e5d-473f-971e-8a12aa4adc8c"
      },
      "outputs": [
        {
          "output_type": "stream",
          "name": "stdout",
          "text": [
            "Downloading pima-indians-diabetes-database.zip to /content\n",
            "\r  0% 0.00/8.91k [00:00<?, ?B/s]\n",
            "\r100% 8.91k/8.91k [00:00<00:00, 7.02MB/s]\n"
          ]
        }
      ],
      "source": [
        "!kaggle datasets download -d uciml/pima-indians-diabetes-database"
      ]
    },
    {
      "cell_type": "code",
      "execution_count": null,
      "metadata": {
        "id": "Nk6f27ewHlFm"
      },
      "outputs": [],
      "source": [
        "!rm ~/.kaggle/kaggle.json"
      ]
    },
    {
      "cell_type": "code",
      "execution_count": null,
      "metadata": {
        "colab": {
          "base_uri": "https://localhost:8080/"
        },
        "id": "jL2kgUz3Hcr-",
        "outputId": "60da96b3-1776-46b5-aa15-17c3ad06cf66"
      },
      "outputs": [
        {
          "output_type": "stream",
          "name": "stdout",
          "text": [
            "Archive:  pima-indians-diabetes-database.zip\n",
            "  inflating: diabetes.csv            \n"
          ]
        }
      ],
      "source": [
        "!unzip pima-indians-diabetes-database.zip"
      ]
    },
    {
      "cell_type": "markdown",
      "source": [
        "# Data Preprocessing"
      ],
      "metadata": {
        "id": "kTaX4g_vtV9g"
      }
    },
    {
      "cell_type": "code",
      "execution_count": null,
      "metadata": {
        "id": "8SELBFkZ9k4b"
      },
      "outputs": [],
      "source": [
        "import pandas as pd\n",
        "import numpy as np\n",
        "from sklearn.preprocessing import StandardScaler\n",
        "from sklearn.model_selection import train_test_split\n",
        "from imblearn.over_sampling import SMOTE\n",
        "from scipy import stats"
      ]
    },
    {
      "cell_type": "code",
      "execution_count": null,
      "metadata": {
        "id": "9IiRQWdqH0HF"
      },
      "outputs": [],
      "source": [
        "df = pd.read_csv(\"diabetes.csv\")"
      ]
    },
    {
      "cell_type": "code",
      "source": [
        "df1 = df.loc[df['Outcome'] == 1]\n",
        "df2 = df.loc[df['Outcome'] == 0]\n",
        "df1 = df1.replace({'BloodPressure':0, 'BMI':0, 'Glucose':0, 'SkinThickness':0, 'Insulin:':0}, {'BloodPressure': np.mean(df1['BloodPressure']), 'BMI': np.mean(df1['BMI']), 'Glucose': np.mean(df1['Glucose']),  'SkinThickness':np.mean(df1['SkinThickness']), 'Insulin':np.mean(df1['Insulin'])})\n",
        "df2 = df2.replace({'BloodPressure':0, 'BMI':0, 'Glucose':0, 'SkinThickness':0, 'Insulin:':0}, {'BloodPressure': np.mean(df2['BloodPressure']), 'BMI': np.mean(df2['BMI']), 'Glucose': np.mean(df2['Glucose']),  'SkinThickness':np.mean(df2['SkinThickness']), 'Insulin':np.mean(df2['Insulin'])})\n",
        "dataframe = [df1, df2]\n",
        "dataset = pd.concat(dataframe)"
      ],
      "metadata": {
        "id": "U209XVVVu42H"
      },
      "execution_count": null,
      "outputs": []
    },
    {
      "cell_type": "code",
      "execution_count": null,
      "metadata": {
        "id": "mkgXAvDsIfB9"
      },
      "outputs": [],
      "source": [
        "y = df[\"Outcome\"]\n",
        "df = df.iloc[:, :-1]\n",
        "columns = df.columns"
      ]
    },
    {
      "cell_type": "code",
      "execution_count": null,
      "metadata": {
        "id": "4H0rf8JHCIkU"
      },
      "outputs": [],
      "source": [
        "sc = StandardScaler()\n",
        "df = pd.DataFrame(sc.fit_transform(df), columns=columns)"
      ]
    },
    {
      "cell_type": "code",
      "execution_count": null,
      "metadata": {
        "colab": {
          "base_uri": "https://localhost:8080/"
        },
        "id": "YS1R1ElJH_wO",
        "outputId": "28cca2cd-1891-462e-874a-cca597ab263b"
      },
      "outputs": [
        {
          "output_type": "execute_result",
          "data": {
            "text/plain": [
              "        Pregnancies       Glucose  BloodPressure  SkinThickness       Insulin  \\\n",
              "count  7.680000e+02  7.680000e+02   7.680000e+02   7.680000e+02  7.680000e+02   \n",
              "mean   2.544261e-17  3.614007e-18  -1.327244e-17   7.994184e-17 -3.556183e-17   \n",
              "std    1.000652e+00  1.000652e+00   1.000652e+00   1.000652e+00  1.000652e+00   \n",
              "min   -1.141852e+00 -3.783654e+00  -3.572597e+00  -1.288212e+00 -6.928906e-01   \n",
              "25%   -8.448851e-01 -6.852363e-01  -3.673367e-01  -1.288212e+00 -6.928906e-01   \n",
              "50%   -2.509521e-01 -1.218877e-01   1.496408e-01   1.545332e-01 -4.280622e-01   \n",
              "75%    6.399473e-01  6.057709e-01   5.632228e-01   7.190857e-01  4.120079e-01   \n",
              "max    3.906578e+00  2.444478e+00   2.734528e+00   4.921866e+00  6.652839e+00   \n",
              "\n",
              "                BMI  DiabetesPedigreeFunction           Age  \n",
              "count  7.680000e+02              7.680000e+02  7.680000e+02  \n",
              "mean   2.295979e-16              2.462585e-16  1.857600e-16  \n",
              "std    1.000652e+00              1.000652e+00  1.000652e+00  \n",
              "min   -4.060474e+00             -1.189553e+00 -1.041549e+00  \n",
              "25%   -5.955785e-01             -6.889685e-01 -7.862862e-01  \n",
              "50%    9.419788e-04             -3.001282e-01 -3.608474e-01  \n",
              "75%    5.847705e-01              4.662269e-01  6.602056e-01  \n",
              "max    4.455807e+00              5.883565e+00  4.063716e+00  "
            ],
            "text/html": [
              "\n",
              "  <div id=\"df-86ed7f1e-0951-4fd4-93a2-1b294aa4d262\">\n",
              "    <div class=\"colab-df-container\">\n",
              "      <div>\n",
              "<style scoped>\n",
              "    .dataframe tbody tr th:only-of-type {\n",
              "        vertical-align: middle;\n",
              "    }\n",
              "\n",
              "    .dataframe tbody tr th {\n",
              "        vertical-align: top;\n",
              "    }\n",
              "\n",
              "    .dataframe thead th {\n",
              "        text-align: right;\n",
              "    }\n",
              "</style>\n",
              "<table border=\"1\" class=\"dataframe\">\n",
              "  <thead>\n",
              "    <tr style=\"text-align: right;\">\n",
              "      <th></th>\n",
              "      <th>Pregnancies</th>\n",
              "      <th>Glucose</th>\n",
              "      <th>BloodPressure</th>\n",
              "      <th>SkinThickness</th>\n",
              "      <th>Insulin</th>\n",
              "      <th>BMI</th>\n",
              "      <th>DiabetesPedigreeFunction</th>\n",
              "      <th>Age</th>\n",
              "    </tr>\n",
              "  </thead>\n",
              "  <tbody>\n",
              "    <tr>\n",
              "      <th>count</th>\n",
              "      <td>7.680000e+02</td>\n",
              "      <td>7.680000e+02</td>\n",
              "      <td>7.680000e+02</td>\n",
              "      <td>7.680000e+02</td>\n",
              "      <td>7.680000e+02</td>\n",
              "      <td>7.680000e+02</td>\n",
              "      <td>7.680000e+02</td>\n",
              "      <td>7.680000e+02</td>\n",
              "    </tr>\n",
              "    <tr>\n",
              "      <th>mean</th>\n",
              "      <td>2.544261e-17</td>\n",
              "      <td>3.614007e-18</td>\n",
              "      <td>-1.327244e-17</td>\n",
              "      <td>7.994184e-17</td>\n",
              "      <td>-3.556183e-17</td>\n",
              "      <td>2.295979e-16</td>\n",
              "      <td>2.462585e-16</td>\n",
              "      <td>1.857600e-16</td>\n",
              "    </tr>\n",
              "    <tr>\n",
              "      <th>std</th>\n",
              "      <td>1.000652e+00</td>\n",
              "      <td>1.000652e+00</td>\n",
              "      <td>1.000652e+00</td>\n",
              "      <td>1.000652e+00</td>\n",
              "      <td>1.000652e+00</td>\n",
              "      <td>1.000652e+00</td>\n",
              "      <td>1.000652e+00</td>\n",
              "      <td>1.000652e+00</td>\n",
              "    </tr>\n",
              "    <tr>\n",
              "      <th>min</th>\n",
              "      <td>-1.141852e+00</td>\n",
              "      <td>-3.783654e+00</td>\n",
              "      <td>-3.572597e+00</td>\n",
              "      <td>-1.288212e+00</td>\n",
              "      <td>-6.928906e-01</td>\n",
              "      <td>-4.060474e+00</td>\n",
              "      <td>-1.189553e+00</td>\n",
              "      <td>-1.041549e+00</td>\n",
              "    </tr>\n",
              "    <tr>\n",
              "      <th>25%</th>\n",
              "      <td>-8.448851e-01</td>\n",
              "      <td>-6.852363e-01</td>\n",
              "      <td>-3.673367e-01</td>\n",
              "      <td>-1.288212e+00</td>\n",
              "      <td>-6.928906e-01</td>\n",
              "      <td>-5.955785e-01</td>\n",
              "      <td>-6.889685e-01</td>\n",
              "      <td>-7.862862e-01</td>\n",
              "    </tr>\n",
              "    <tr>\n",
              "      <th>50%</th>\n",
              "      <td>-2.509521e-01</td>\n",
              "      <td>-1.218877e-01</td>\n",
              "      <td>1.496408e-01</td>\n",
              "      <td>1.545332e-01</td>\n",
              "      <td>-4.280622e-01</td>\n",
              "      <td>9.419788e-04</td>\n",
              "      <td>-3.001282e-01</td>\n",
              "      <td>-3.608474e-01</td>\n",
              "    </tr>\n",
              "    <tr>\n",
              "      <th>75%</th>\n",
              "      <td>6.399473e-01</td>\n",
              "      <td>6.057709e-01</td>\n",
              "      <td>5.632228e-01</td>\n",
              "      <td>7.190857e-01</td>\n",
              "      <td>4.120079e-01</td>\n",
              "      <td>5.847705e-01</td>\n",
              "      <td>4.662269e-01</td>\n",
              "      <td>6.602056e-01</td>\n",
              "    </tr>\n",
              "    <tr>\n",
              "      <th>max</th>\n",
              "      <td>3.906578e+00</td>\n",
              "      <td>2.444478e+00</td>\n",
              "      <td>2.734528e+00</td>\n",
              "      <td>4.921866e+00</td>\n",
              "      <td>6.652839e+00</td>\n",
              "      <td>4.455807e+00</td>\n",
              "      <td>5.883565e+00</td>\n",
              "      <td>4.063716e+00</td>\n",
              "    </tr>\n",
              "  </tbody>\n",
              "</table>\n",
              "</div>\n",
              "      <button class=\"colab-df-convert\" onclick=\"convertToInteractive('df-86ed7f1e-0951-4fd4-93a2-1b294aa4d262')\"\n",
              "              title=\"Convert this dataframe to an interactive table.\"\n",
              "              style=\"display:none;\">\n",
              "        \n",
              "  <svg xmlns=\"http://www.w3.org/2000/svg\" height=\"24px\"viewBox=\"0 0 24 24\"\n",
              "       width=\"24px\">\n",
              "    <path d=\"M0 0h24v24H0V0z\" fill=\"none\"/>\n",
              "    <path d=\"M18.56 5.44l.94 2.06.94-2.06 2.06-.94-2.06-.94-.94-2.06-.94 2.06-2.06.94zm-11 1L8.5 8.5l.94-2.06 2.06-.94-2.06-.94L8.5 2.5l-.94 2.06-2.06.94zm10 10l.94 2.06.94-2.06 2.06-.94-2.06-.94-.94-2.06-.94 2.06-2.06.94z\"/><path d=\"M17.41 7.96l-1.37-1.37c-.4-.4-.92-.59-1.43-.59-.52 0-1.04.2-1.43.59L10.3 9.45l-7.72 7.72c-.78.78-.78 2.05 0 2.83L4 21.41c.39.39.9.59 1.41.59.51 0 1.02-.2 1.41-.59l7.78-7.78 2.81-2.81c.8-.78.8-2.07 0-2.86zM5.41 20L4 18.59l7.72-7.72 1.47 1.35L5.41 20z\"/>\n",
              "  </svg>\n",
              "      </button>\n",
              "      \n",
              "  <style>\n",
              "    .colab-df-container {\n",
              "      display:flex;\n",
              "      flex-wrap:wrap;\n",
              "      gap: 12px;\n",
              "    }\n",
              "\n",
              "    .colab-df-convert {\n",
              "      background-color: #E8F0FE;\n",
              "      border: none;\n",
              "      border-radius: 50%;\n",
              "      cursor: pointer;\n",
              "      display: none;\n",
              "      fill: #1967D2;\n",
              "      height: 32px;\n",
              "      padding: 0 0 0 0;\n",
              "      width: 32px;\n",
              "    }\n",
              "\n",
              "    .colab-df-convert:hover {\n",
              "      background-color: #E2EBFA;\n",
              "      box-shadow: 0px 1px 2px rgba(60, 64, 67, 0.3), 0px 1px 3px 1px rgba(60, 64, 67, 0.15);\n",
              "      fill: #174EA6;\n",
              "    }\n",
              "\n",
              "    [theme=dark] .colab-df-convert {\n",
              "      background-color: #3B4455;\n",
              "      fill: #D2E3FC;\n",
              "    }\n",
              "\n",
              "    [theme=dark] .colab-df-convert:hover {\n",
              "      background-color: #434B5C;\n",
              "      box-shadow: 0px 1px 3px 1px rgba(0, 0, 0, 0.15);\n",
              "      filter: drop-shadow(0px 1px 2px rgba(0, 0, 0, 0.3));\n",
              "      fill: #FFFFFF;\n",
              "    }\n",
              "  </style>\n",
              "\n",
              "      <script>\n",
              "        const buttonEl =\n",
              "          document.querySelector('#df-86ed7f1e-0951-4fd4-93a2-1b294aa4d262 button.colab-df-convert');\n",
              "        buttonEl.style.display =\n",
              "          google.colab.kernel.accessAllowed ? 'block' : 'none';\n",
              "\n",
              "        async function convertToInteractive(key) {\n",
              "          const element = document.querySelector('#df-86ed7f1e-0951-4fd4-93a2-1b294aa4d262');\n",
              "          const dataTable =\n",
              "            await google.colab.kernel.invokeFunction('convertToInteractive',\n",
              "                                                     [key], {});\n",
              "          if (!dataTable) return;\n",
              "\n",
              "          const docLinkHtml = 'Like what you see? Visit the ' +\n",
              "            '<a target=\"_blank\" href=https://colab.research.google.com/notebooks/data_table.ipynb>data table notebook</a>'\n",
              "            + ' to learn more about interactive tables.';\n",
              "          element.innerHTML = '';\n",
              "          dataTable['output_type'] = 'display_data';\n",
              "          await google.colab.output.renderOutput(dataTable, element);\n",
              "          const docLink = document.createElement('div');\n",
              "          docLink.innerHTML = docLinkHtml;\n",
              "          element.appendChild(docLink);\n",
              "        }\n",
              "      </script>\n",
              "    </div>\n",
              "  </div>\n",
              "  "
            ]
          },
          "metadata": {},
          "execution_count": 142
        }
      ],
      "source": [
        "df.describe()"
      ]
    },
    {
      "cell_type": "code",
      "execution_count": null,
      "metadata": {
        "id": "X8DyQTd4KMXK"
      },
      "outputs": [],
      "source": [
        "X_train, X_test, y_train, y_test = train_test_split(df, y, test_size=100)"
      ]
    },
    {
      "cell_type": "code",
      "execution_count": null,
      "metadata": {
        "colab": {
          "base_uri": "https://localhost:8080/"
        },
        "id": "Je5gTk-lXBVp",
        "outputId": "5a945082-ab2a-4b94-a436-4d7fabfb8763"
      },
      "outputs": [
        {
          "output_type": "execute_result",
          "data": {
            "text/plain": [
              "array([435, 435])"
            ]
          },
          "metadata": {},
          "execution_count": 144
        }
      ],
      "source": [
        "smt = SMOTE()\n",
        "X_train, y_train = smt.fit_resample(X_train, y_train)\n",
        "np.bincount(y_train)"
      ]
    },
    {
      "cell_type": "markdown",
      "source": [
        "# XGBoost"
      ],
      "metadata": {
        "id": "ajwxJMUqtZD8"
      }
    },
    {
      "cell_type": "code",
      "execution_count": null,
      "metadata": {
        "id": "7ykc8jfQVL0u"
      },
      "outputs": [],
      "source": [
        "from sklearn.metrics import recall_score, accuracy_score\n",
        "from sklearn.ensemble import RandomForestClassifier\n",
        "from xgboost import XGBClassifier\n",
        "from sklearn.model_selection import RandomizedSearchCV"
      ]
    },
    {
      "cell_type": "code",
      "execution_count": null,
      "metadata": {
        "id": "QuW1DRQDJVql"
      },
      "outputs": [],
      "source": [
        "model = XGBClassifier(silent=False, \n",
        "                      scale_pos_weight=1,\n",
        "                      learning_rate=0.01,  \n",
        "                      colsample_bytree = 0.4,\n",
        "                      subsample = 0.8,\n",
        "                      objective='reg:logistic', \n",
        "                      n_estimators=300, \n",
        "                      max_depth=4)"
      ]
    },
    {
      "cell_type": "code",
      "execution_count": null,
      "metadata": {
        "colab": {
          "base_uri": "https://localhost:8080/"
        },
        "id": "OTKxKXHIJsSl",
        "outputId": "6e441fb7-8af7-4021-f2a5-810426f8d682"
      },
      "outputs": [
        {
          "output_type": "execute_result",
          "data": {
            "text/plain": [
              "XGBClassifier(colsample_bytree=0.4, learning_rate=0.01, max_depth=4,\n",
              "              n_estimators=300, objective='reg:logistic', silent=False,\n",
              "              subsample=0.8)"
            ]
          },
          "metadata": {},
          "execution_count": 147
        }
      ],
      "source": [
        "model.fit(X_train, y_train)"
      ]
    },
    {
      "cell_type": "code",
      "source": [
        "y_pred = model.predict(X_test)\n",
        "print(f\"Recall: {recall_score(y_pred, y_test)}, Accuracy:{accuracy_score(y_pred, y_test)}.\")"
      ],
      "metadata": {
        "colab": {
          "base_uri": "https://localhost:8080/"
        },
        "id": "0_ErW4HKxWgX",
        "outputId": "b63a24f7-5a7a-49d8-d6e7-0dc5afced0c7"
      },
      "execution_count": null,
      "outputs": [
        {
          "output_type": "stream",
          "name": "stdout",
          "text": [
            "Recall: 0.7368421052631579, Accuracy:0.83.\n"
          ]
        }
      ]
    },
    {
      "cell_type": "code",
      "source": [
        "import pickle\n",
        "file_name = \"diabetesClassifier.pkl\"\n",
        "pickle.dump(model, open(file_name, \"wb\"))"
      ],
      "metadata": {
        "id": "Pjah-NnR0I-Q"
      },
      "execution_count": null,
      "outputs": []
    },
    {
      "cell_type": "code",
      "execution_count": null,
      "metadata": {
        "colab": {
          "base_uri": "https://localhost:8080/"
        },
        "id": "BDSs7u7lQR1m",
        "outputId": "6d190129-6916-432b-e2a8-518d2122e19e"
      },
      "outputs": [
        {
          "output_type": "stream",
          "name": "stdout",
          "text": [
            "Fitting 5 folds for each of 50 candidates, totalling 250 fits\n"
          ]
        },
        {
          "output_type": "execute_result",
          "data": {
            "text/plain": [
              "RandomizedSearchCV(estimator=XGBClassifier(objective='reg:logistic', seed=20),\n",
              "                   n_iter=50, n_jobs=-1,\n",
              "                   param_distributions={'colsample_bylevel': array([0. , 0.1, 0.2, 0.3, 0.4, 0.5, 0.6, 0.7, 0.8, 0.9]),\n",
              "                                        'colsample_bytree': array([0. , 0.1, 0.2, 0.3, 0.4, 0.5, 0.6, 0.7, 0.8, 0.9]),\n",
              "                                        'learning_rate': array([0.    , 0.0001, 0.0002, 0.0003, 0.0004, 0.0005, 0.0006, 0.0007,\n",
              "       0.0008, 0.0009, 0.001 , 0....\n",
              "       0.0064, 0.0065, 0.0066, 0.0067, 0.0068, 0.0069, 0.007 , 0.0071,\n",
              "       0.0072, 0.0073, 0.0074, 0.0075, 0.0076, 0.0077, 0.0078, 0.0079,\n",
              "       0.008 , 0.0081, 0.0082, 0.0083, 0.0084, 0.0085, 0.0086, 0.0087,\n",
              "       0.0088, 0.0089, 0.009 , 0.0091, 0.0092, 0.0093, 0.0094, 0.0095,\n",
              "       0.0096, 0.0097, 0.0098, 0.0099]),\n",
              "                                        'max_depth': [3, 5, 6, 10, 15, 20],\n",
              "                                        'n_estimators': [100, 500, 1000],\n",
              "                                        'subsample': array([0. , 0.1, 0.2, 0.3, 0.4, 0.5, 0.6, 0.7, 0.8, 0.9])},\n",
              "                   scoring='recall', verbose=1)"
            ]
          },
          "metadata": {},
          "execution_count": 56
        }
      ],
      "source": [
        "params = { 'max_depth': [3, 5, 6, 10, 15, 20],\n",
        "           'learning_rate': np.arange(0, 0.01, 0.0001),\n",
        "           'subsample': np.arange(0, 1.0, 0.1),\n",
        "           'colsample_bytree': np.arange(0, 1.0, 0.1),\n",
        "           'colsample_bylevel': np.arange(0, 1.0, 0.1),\n",
        "           'n_estimators': [100, 500, 1000]}\n",
        "xgbr = XGBClassifier(seed = 20, objective='reg:logistic')\n",
        "clf = RandomizedSearchCV(estimator=xgbr, \n",
        "                   param_distributions=params,\n",
        "                   scoring='recall', \n",
        "                   verbose=1, n_iter=50, n_jobs=-1)\n",
        "clf.fit(X_train, y_train)"
      ]
    },
    {
      "cell_type": "code",
      "execution_count": null,
      "metadata": {
        "colab": {
          "base_uri": "https://localhost:8080/"
        },
        "id": "tEY8gL1HLIk5",
        "outputId": "ee4f191f-5df2-435f-f1cf-2ce6020a7b19"
      },
      "outputs": [
        {
          "output_type": "stream",
          "name": "stdout",
          "text": [
            "Recall: 0.6833333333333333, Accuracy:0.8133333333333334.\n"
          ]
        }
      ],
      "source": [
        "y_pred = clf.predict(X_test)\n",
        "print(f\"Recall: {recall_score(y_pred, y_test)}, Accuracy:{accuracy_score(y_pred, y_test)}.\")"
      ]
    },
    {
      "cell_type": "markdown",
      "source": [
        "# Random Forest"
      ],
      "metadata": {
        "id": "I7-rAJX1q2Nb"
      }
    },
    {
      "cell_type": "code",
      "execution_count": null,
      "metadata": {
        "colab": {
          "base_uri": "https://localhost:8080/"
        },
        "id": "Ek7joffnPwmF",
        "outputId": "9fcad31f-4fdb-4dd8-800e-9dff41ad5120"
      },
      "outputs": [
        {
          "output_type": "execute_result",
          "data": {
            "text/plain": [
              "RandomForestClassifier(max_features='sqrt', n_estimators=300)"
            ]
          },
          "metadata": {},
          "execution_count": 51
        }
      ],
      "source": [
        "rf = RandomForestClassifier(n_estimators=300, bootstrap = True, max_features = 'sqrt')\n",
        "rf.fit(X_train, y_train)"
      ]
    },
    {
      "cell_type": "code",
      "execution_count": null,
      "metadata": {
        "colab": {
          "base_uri": "https://localhost:8080/"
        },
        "id": "a0LpCu9rUyDg",
        "outputId": "cba6e1f1-bbd1-45eb-f40e-8aaf252e1a1d"
      },
      "outputs": [
        {
          "output_type": "stream",
          "name": "stdout",
          "text": [
            "Recall: 0.6964285714285714, Accuracy:0.8133333333333334\n"
          ]
        }
      ],
      "source": [
        "y_pred = rf.predict(X_test)\n",
        "print(f\"Recall: {recall_score(y_pred, y_test)}, Accuracy:{accuracy_score(y_pred, y_test)}\")"
      ]
    },
    {
      "cell_type": "markdown",
      "source": [
        "# Naive Bayes"
      ],
      "metadata": {
        "id": "e4H_8zHvjf2A"
      }
    },
    {
      "cell_type": "code",
      "source": [
        "from sklearn.naive_bayes import GaussianNB\n",
        "gauss = GaussianNB()\n",
        "gauss.fit(X_train, y_train)"
      ],
      "metadata": {
        "colab": {
          "base_uri": "https://localhost:8080/"
        },
        "id": "ebw45GRzjh2e",
        "outputId": "121ab8b4-6d91-45ea-d90c-48b4c4c026d6"
      },
      "execution_count": null,
      "outputs": [
        {
          "output_type": "execute_result",
          "data": {
            "text/plain": [
              "GaussianNB()"
            ]
          },
          "metadata": {},
          "execution_count": 39
        }
      ]
    },
    {
      "cell_type": "code",
      "source": [
        "y_pred = gauss.predict(X_test)\n",
        "print(f\"Recall: {recall_score(y_pred, y_test)}, Accuracy:{accuracy_score(y_pred, y_test)}\")"
      ],
      "metadata": {
        "colab": {
          "base_uri": "https://localhost:8080/"
        },
        "id": "YWlPfP3blDdI",
        "outputId": "b146977a-c206-4fff-8326-0d99d33eb6f3"
      },
      "execution_count": null,
      "outputs": [
        {
          "output_type": "stream",
          "name": "stdout",
          "text": [
            "Recall: 0.625, Accuracy:0.72\n"
          ]
        }
      ]
    }
  ],
  "metadata": {
    "colab": {
      "collapsed_sections": [],
      "name": "Disease Prediction Model.ipynb",
      "provenance": [],
      "authorship_tag": "ABX9TyNJ+WgqyTCz03cfaQAeX4iB",
      "include_colab_link": true
    },
    "kernelspec": {
      "display_name": "Python 3",
      "name": "python3"
    },
    "language_info": {
      "name": "python"
    },
    "accelerator": "GPU"
  },
  "nbformat": 4,
  "nbformat_minor": 0
}