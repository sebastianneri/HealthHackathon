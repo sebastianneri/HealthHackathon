{
  "nbformat": 4,
  "nbformat_minor": 0,
  "metadata": {
    "colab": {
      "provenance": [],
      "authorship_tag": "ABX9TyPZ+Wgq8wPzp4wI4oSkre5o",
      "include_colab_link": true
    },
    "kernelspec": {
      "name": "python3",
      "display_name": "Python 3"
    },
    "language_info": {
      "name": "python"
    },
    "accelerator": "GPU",
    "gpuClass": "standard"
  },
  "cells": [
    {
      "cell_type": "markdown",
      "metadata": {
        "id": "view-in-github",
        "colab_type": "text"
      },
      "source": [
        "<a href=\"https://colab.research.google.com/github/sebastianneri/HealthHackathon/blob/main/Test.ipynb\" target=\"_parent\"><img src=\"https://colab.research.google.com/assets/colab-badge.svg\" alt=\"Open In Colab\"/></a>"
      ]
    },
    {
      "cell_type": "code",
      "execution_count": 16,
      "metadata": {
        "id": "b5UcRP3F1GAu"
      },
      "outputs": [],
      "source": []
    },
    {
      "cell_type": "code",
      "source": [],
      "metadata": {
        "id": "Tgp6Y1Ta9tLe"
      },
      "execution_count": null,
      "outputs": []
    },
    {
      "cell_type": "code",
      "source": [
        "!git pull"
      ],
      "metadata": {
        "id": "NU09wOpp4ufd",
        "outputId": "f039537b-2ee8-4c43-9d8c-37cd9f20e528",
        "colab": {
          "base_uri": "https://localhost:8080/"
        }
      },
      "execution_count": 2,
      "outputs": [
        {
          "output_type": "stream",
          "name": "stdout",
          "text": [
            "fatal: not a git repository (or any of the parent directories): .git\n"
          ]
        }
      ]
    },
    {
      "cell_type": "code",
      "source": [
        "import sys\n",
        "sys.path.append('/content/adversarial-core/')"
      ],
      "metadata": {
        "id": "9AlkYLhl2x_S"
      },
      "execution_count": 3,
      "outputs": []
    },
    {
      "cell_type": "code",
      "source": [
        "!pip install retriv"
      ],
      "metadata": {
        "id": "opLPTPFS3Qij"
      },
      "execution_count": null,
      "outputs": []
    },
    {
      "cell_type": "code",
      "source": [
        "import os\n",
        "os.chdir('adversarial-core/')\n",
        "os.getcwd()"
      ],
      "metadata": {
        "id": "K2qgi_xx5eN3",
        "outputId": "01bebeed-7764-4978-8ad9-ac0d41ffaa1a",
        "colab": {
          "base_uri": "https://localhost:8080/",
          "height": 35
        }
      },
      "execution_count": 7,
      "outputs": [
        {
          "output_type": "execute_result",
          "data": {
            "text/plain": [
              "'/content/adversarial-core'"
            ],
            "application/vnd.google.colaboratory.intrinsic+json": {
              "type": "string"
            }
          },
          "metadata": {},
          "execution_count": 7
        }
      ]
    },
    {
      "cell_type": "code",
      "source": [
        "!python main.py"
      ],
      "metadata": {
        "id": "KSpn4W0A3R7F",
        "outputId": "94cefa47-b944-4b63-e22f-e00ae036465a",
        "colab": {
          "base_uri": "https://localhost:8080/"
        }
      },
      "execution_count": 16,
      "outputs": [
        {
          "output_type": "stream",
          "name": "stdout",
          "text": [
            "\rEmbedding documents:   0% 0/2 [00:00<?, ?it/s]\rEmbedding documents: 100% 2/2 [00:00<00:00, 16.40it/s]\n",
            "Building ANN Searcher\n",
            "2023-04-06 05:00:37,453 [ERROR]: You do not have enough memory to build this index, please increase current_memory_available or decrease max_index_memory_usage\n",
            "Traceback (most recent call last):\n",
            "  File \"/content/adversarial-core/main.py\", line 20, in <module>\n",
            "    results = BET.score_text(path, canvas_delivered_assignment, True)\n",
            "  File \"/content/adversarial-core/modules.py\", line 81, in score_text\n",
            "    score, top_3 = self.ParaphraseDetector.evaluate_text(path, query)\n",
            "  File \"/content/adversarial-core/modules.py\", line 61, in evaluate_text\n",
            "    results = self.get_score(query)\n",
            "  File \"/content/adversarial-core/modules.py\", line 52, in get_score\n",
            "    result = self.retriever.search(\n",
            "  File \"/usr/local/lib/python3.9/dist-packages/retriv/dense_retriever/dense_retriever.py\", line 170, in search\n",
            "    doc_ids, scores = self.ann_searcher.search(encoded_query, cutoff)\n",
            "  File \"/usr/local/lib/python3.9/dist-packages/retriv/dense_retriever/ann_searcher.py\", line 67, in search\n",
            "    ids, scores = self.msearch(query, cutoff)\n",
            "  File \"/usr/local/lib/python3.9/dist-packages/retriv/dense_retriever/ann_searcher.py\", line 71, in msearch\n",
            "    scores, ids = self.faiss_index.search(queries, cutoff)\n",
            "AttributeError: 'NoneType' object has no attribute 'search'\n"
          ]
        }
      ]
    },
    {
      "cell_type": "code",
      "source": [],
      "metadata": {
        "id": "O_yzyN3l3r1W"
      },
      "execution_count": null,
      "outputs": []
    }
  ]
}